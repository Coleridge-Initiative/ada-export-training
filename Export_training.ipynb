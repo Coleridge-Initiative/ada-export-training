{
 "cells": [
  {
   "cell_type": "markdown",
   "id": "abd56a27",
   "metadata": {
    "slideshow": {
     "slide_type": "slide"
    }
   },
   "source": [
    "<center> <img style=\"float: center;\" src=\"images/CI_horizontal.png\" width=\"450\">\n",
    "<center>\n",
    "    <span style=\"font-size: 1.5em;\">\n",
    "        <a href='https://www.coleridgeinitiative.org'>Website</a>\n",
    "    </span> \n",
    "\n",
    "<center><h1> Preparing and Submitting Files for Export<h1></center>\n"
   ]
  },
  {
   "cell_type": "markdown",
   "id": "abbf1b4d",
   "metadata": {
    "slideshow": {
     "slide_type": "slide"
    }
   },
   "source": [
    "# Outline \n",
    "1. How to prepare an export\n",
    "    - Creating all necessary files\n",
    "1. How to submit an export using the files we created\n",
    "    - Export module\n"
   ]
  },
  {
   "cell_type": "markdown",
   "id": "40ae885a",
   "metadata": {
    "slideshow": {
     "slide_type": "slide"
    }
   },
   "source": [
    "In order to submit a proper export, the following supporting files and information must accompany all export files:\n",
    "- A documentation file that includes:\n",
    "    - Export file name \n",
    "    - Name of the supporting files that contain the required counts for each reported statistic\n",
    "    - Grouping and filters applied to the original dataset\n",
    "    - How the export file relates to other files within the same export\n",
    "\n",
    ">Note: If there are multiple variables subject to disclosure review, you can include the counts for them in the same file.\n"
   ]
  },
  {
   "cell_type": "code",
   "execution_count": 1,
   "id": "1db5563f",
   "metadata": {
    "slideshow": {
     "slide_type": "skip"
    }
   },
   "outputs": [
    {
     "name": "stderr",
     "output_type": "stream",
     "text": [
      "── \u001b[1mAttaching packages\u001b[22m ─────────────────────────────────────── tidyverse 1.3.0 ──\n",
      "\n",
      "\u001b[32m✔\u001b[39m \u001b[34mggplot2\u001b[39m 3.3.2     \u001b[32m✔\u001b[39m \u001b[34mpurrr  \u001b[39m 0.3.4\n",
      "\u001b[32m✔\u001b[39m \u001b[34mtibble \u001b[39m 3.0.3     \u001b[32m✔\u001b[39m \u001b[34mdplyr  \u001b[39m 1.0.1\n",
      "\u001b[32m✔\u001b[39m \u001b[34mtidyr  \u001b[39m 1.1.1     \u001b[32m✔\u001b[39m \u001b[34mstringr\u001b[39m 1.4.0\n",
      "\u001b[32m✔\u001b[39m \u001b[34mreadr  \u001b[39m 1.3.1     \u001b[32m✔\u001b[39m \u001b[34mforcats\u001b[39m 0.5.0\n",
      "\n",
      "── \u001b[1mConflicts\u001b[22m ────────────────────────────────────────── tidyverse_conflicts() ──\n",
      "\u001b[31m✖\u001b[39m \u001b[34mdplyr\u001b[39m::\u001b[32mfilter()\u001b[39m masks \u001b[34mstats\u001b[39m::filter()\n",
      "\u001b[31m✖\u001b[39m \u001b[34mdplyr\u001b[39m::\u001b[32mlag()\u001b[39m    masks \u001b[34mstats\u001b[39m::lag()\n",
      "\n",
      "Loading required package: R.oo\n",
      "\n",
      "Loading required package: R.methodsS3\n",
      "\n",
      "R.methodsS3 v1.8.0 (2020-02-14 07:10:20 UTC) successfully loaded. See ?R.methodsS3 for help.\n",
      "\n",
      "R.oo v1.23.0 successfully loaded. See ?R.oo for help.\n",
      "\n",
      "\n",
      "Attaching package: ‘R.oo’\n",
      "\n",
      "\n",
      "The following object is masked from ‘package:R.methodsS3’:\n",
      "\n",
      "    throw\n",
      "\n",
      "\n",
      "The following objects are masked from ‘package:methods’:\n",
      "\n",
      "    getClasses, getMethods\n",
      "\n",
      "\n",
      "The following objects are masked from ‘package:base’:\n",
      "\n",
      "    attach, detach, load, save\n",
      "\n",
      "\n",
      "R.utils v2.9.2 successfully loaded. See ?R.utils for help.\n",
      "\n",
      "\n",
      "Attaching package: ‘R.utils’\n",
      "\n",
      "\n",
      "The following object is masked from ‘package:tidyr’:\n",
      "\n",
      "    extract\n",
      "\n",
      "\n",
      "The following object is masked from ‘package:utils’:\n",
      "\n",
      "    timestamp\n",
      "\n",
      "\n",
      "The following objects are masked from ‘package:base’:\n",
      "\n",
      "    cat, commandArgs, getOption, inherits, isOpen, nullfile, parse,\n",
      "    warnings\n",
      "\n",
      "\n"
     ]
    }
   ],
   "source": [
    "library(tidyverse)\n",
    "library(R.utils)\n",
    "library(ggplot2)\n",
    "\n"
   ]
  },
  {
   "cell_type": "code",
   "execution_count": 2,
   "id": "e77d1c87",
   "metadata": {
    "slideshow": {
     "slide_type": "skip"
    }
   },
   "outputs": [
    {
     "name": "stderr",
     "output_type": "stream",
     "text": [
      "Parsed with column specification:\n",
      "cols(\n",
      "  .default = col_character(),\n",
      "  cbsa = \u001b[32mcol_double()\u001b[39m,\n",
      "  zcta = \u001b[32mcol_double()\u001b[39m,\n",
      "  zctaname = \u001b[32mcol_double()\u001b[39m,\n",
      "  stsecon = \u001b[32mcol_double()\u001b[39m,\n",
      "  stseconname = \u001b[33mcol_logical()\u001b[39m,\n",
      "  tsub = \u001b[32mcol_double()\u001b[39m,\n",
      "  tsubname = \u001b[33mcol_logical()\u001b[39m,\n",
      "  stanrc = \u001b[32mcol_double()\u001b[39m,\n",
      "  stanrcname = \u001b[33mcol_logical()\u001b[39m,\n",
      "  necta = \u001b[32mcol_double()\u001b[39m,\n",
      "  nectaname = \u001b[33mcol_logical()\u001b[39m,\n",
      "  mil = \u001b[32mcol_double()\u001b[39m,\n",
      "  blklatdd = \u001b[32mcol_double()\u001b[39m,\n",
      "  blklondd = \u001b[32mcol_double()\u001b[39m,\n",
      "  createdate = \u001b[32mcol_double()\u001b[39m\n",
      ")\n",
      "\n",
      "See spec(...) for full column specifications.\n",
      "\n",
      "Parsed with column specification:\n",
      "cols(\n",
      "  .default = col_double(),\n",
      "  w_geocode = \u001b[31mcol_character()\u001b[39m\n",
      ")\n",
      "\n",
      "See spec(...) for full column specifications.\n",
      "\n",
      "Parsed with column specification:\n",
      "cols(\n",
      "  .default = col_double(),\n",
      "  h_geocode = \u001b[31mcol_character()\u001b[39m\n",
      ")\n",
      "\n",
      "See spec(...) for full column specifications.\n",
      "\n"
     ]
    }
   ],
   "source": [
    "co_xwalk <- read_csv(\"co_xwalk.csv\")\n",
    "\n",
    "co_wac_2019 <- read_csv('co_wac_S000_JT00_2019.csv')\n",
    "\n",
    "co_rac_2019 <- read_csv('co_rac_S000_JT00_2019.csv')\n"
   ]
  },
  {
   "cell_type": "code",
   "execution_count": 3,
   "id": "c9677e2c",
   "metadata": {
    "slideshow": {
     "slide_type": "skip"
    }
   },
   "outputs": [],
   "source": [
    "df_inner_join <- inner_join(co_xwalk, co_wac_2019, by = c(\"tabblk2010\" = \"w_geocode\")) %>%\n",
    "    select (tabblk2010, C000, CA01, CA02, CA03, ctyname, cbsaname) %>% \n",
    "    filter(C000 > 10)"
   ]
  },
  {
   "cell_type": "markdown",
   "id": "a53d2380",
   "metadata": {
    "slideshow": {
     "slide_type": "slide"
    }
   },
   "source": [
    "# How to prepare an export\n"
   ]
  },
  {
   "cell_type": "code",
   "execution_count": 4,
   "id": "b3271be1",
   "metadata": {
    "slideshow": {
     "slide_type": "slide"
    }
   },
   "outputs": [
    {
     "name": "stderr",
     "output_type": "stream",
     "text": [
      "`summarise()` ungrouping output (override with `.groups` argument)\n",
      "\n"
     ]
    },
    {
     "data": {
      "text/html": [
       "<table class=\"dataframe\">\n",
       "<caption>A tibble: 6 × 2</caption>\n",
       "<thead>\n",
       "\t<tr><th scope=col>ctyname</th><th scope=col>total_jobs</th></tr>\n",
       "\t<tr><th scope=col>&lt;chr&gt;</th><th scope=col>&lt;dbl&gt;</th></tr>\n",
       "</thead>\n",
       "<tbody>\n",
       "\t<tr><td>Denver County, CO   </td><td>518198</td></tr>\n",
       "\t<tr><td>Arapahoe County, CO </td><td>329681</td></tr>\n",
       "\t<tr><td>El Paso County, CO  </td><td>258298</td></tr>\n",
       "\t<tr><td>Jefferson County, CO</td><td>244706</td></tr>\n",
       "\t<tr><td>Adams County, CO    </td><td>222035</td></tr>\n",
       "\t<tr><td>Boulder County, CO  </td><td>177153</td></tr>\n",
       "</tbody>\n",
       "</table>\n"
      ],
      "text/latex": [
       "A tibble: 6 × 2\n",
       "\\begin{tabular}{ll}\n",
       " ctyname & total\\_jobs\\\\\n",
       " <chr> & <dbl>\\\\\n",
       "\\hline\n",
       "\t Denver County, CO    & 518198\\\\\n",
       "\t Arapahoe County, CO  & 329681\\\\\n",
       "\t El Paso County, CO   & 258298\\\\\n",
       "\t Jefferson County, CO & 244706\\\\\n",
       "\t Adams County, CO     & 222035\\\\\n",
       "\t Boulder County, CO   & 177153\\\\\n",
       "\\end{tabular}\n"
      ],
      "text/markdown": [
       "\n",
       "A tibble: 6 × 2\n",
       "\n",
       "| ctyname &lt;chr&gt; | total_jobs &lt;dbl&gt; |\n",
       "|---|---|\n",
       "| Denver County, CO    | 518198 |\n",
       "| Arapahoe County, CO  | 329681 |\n",
       "| El Paso County, CO   | 258298 |\n",
       "| Jefferson County, CO | 244706 |\n",
       "| Adams County, CO     | 222035 |\n",
       "| Boulder County, CO   | 177153 |\n",
       "\n"
      ],
      "text/plain": [
       "  ctyname              total_jobs\n",
       "1 Denver County, CO    518198    \n",
       "2 Arapahoe County, CO  329681    \n",
       "3 El Paso County, CO   258298    \n",
       "4 Jefferson County, CO 244706    \n",
       "5 Adams County, CO     222035    \n",
       "6 Boulder County, CO   177153    "
      ]
     },
     "metadata": {},
     "output_type": "display_data"
    }
   ],
   "source": [
    "total_jobs_by_county <- df_inner_join %>%\n",
    "    group_by(ctyname) %>% #grouping by county name\n",
    "    summarize(\n",
    "        total_jobs = sum(C000)\n",
    "    ) %>%\n",
    "    ungroup()  %>% # cant forget to ungroup()\n",
    "    arrange(desc(total_jobs))\n",
    "\n",
    "head(total_jobs_by_county)"
   ]
  },
  {
   "cell_type": "code",
   "execution_count": 5,
   "id": "37d621ed",
   "metadata": {
    "slideshow": {
     "slide_type": "slide"
    }
   },
   "outputs": [
    {
     "name": "stderr",
     "output_type": "stream",
     "text": [
      "`summarise()` ungrouping output (override with `.groups` argument)\n",
      "\n"
     ]
    },
    {
     "data": {
      "text/html": [
       "<table class=\"dataframe\">\n",
       "<caption>A tibble: 6 × 3</caption>\n",
       "<thead>\n",
       "\t<tr><th scope=col>ctyname</th><th scope=col>total_jobs</th><th scope=col>census_block_count</th></tr>\n",
       "\t<tr><th scope=col>&lt;chr&gt;</th><th scope=col>&lt;dbl&gt;</th><th scope=col>&lt;int&gt;</th></tr>\n",
       "</thead>\n",
       "<tbody>\n",
       "\t<tr><td>Denver County, CO   </td><td>518198</td><td>2484</td></tr>\n",
       "\t<tr><td>Arapahoe County, CO </td><td>329681</td><td>1435</td></tr>\n",
       "\t<tr><td>El Paso County, CO  </td><td>258298</td><td>2248</td></tr>\n",
       "\t<tr><td>Jefferson County, CO</td><td>244706</td><td>1636</td></tr>\n",
       "\t<tr><td>Adams County, CO    </td><td>222035</td><td>1234</td></tr>\n",
       "\t<tr><td>Boulder County, CO  </td><td>177153</td><td>1135</td></tr>\n",
       "</tbody>\n",
       "</table>\n"
      ],
      "text/latex": [
       "A tibble: 6 × 3\n",
       "\\begin{tabular}{lll}\n",
       " ctyname & total\\_jobs & census\\_block\\_count\\\\\n",
       " <chr> & <dbl> & <int>\\\\\n",
       "\\hline\n",
       "\t Denver County, CO    & 518198 & 2484\\\\\n",
       "\t Arapahoe County, CO  & 329681 & 1435\\\\\n",
       "\t El Paso County, CO   & 258298 & 2248\\\\\n",
       "\t Jefferson County, CO & 244706 & 1636\\\\\n",
       "\t Adams County, CO     & 222035 & 1234\\\\\n",
       "\t Boulder County, CO   & 177153 & 1135\\\\\n",
       "\\end{tabular}\n"
      ],
      "text/markdown": [
       "\n",
       "A tibble: 6 × 3\n",
       "\n",
       "| ctyname &lt;chr&gt; | total_jobs &lt;dbl&gt; | census_block_count &lt;int&gt; |\n",
       "|---|---|---|\n",
       "| Denver County, CO    | 518198 | 2484 |\n",
       "| Arapahoe County, CO  | 329681 | 1435 |\n",
       "| El Paso County, CO   | 258298 | 2248 |\n",
       "| Jefferson County, CO | 244706 | 1636 |\n",
       "| Adams County, CO     | 222035 | 1234 |\n",
       "| Boulder County, CO   | 177153 | 1135 |\n",
       "\n"
      ],
      "text/plain": [
       "  ctyname              total_jobs census_block_count\n",
       "1 Denver County, CO    518198     2484              \n",
       "2 Arapahoe County, CO  329681     1435              \n",
       "3 El Paso County, CO   258298     2248              \n",
       "4 Jefferson County, CO 244706     1636              \n",
       "5 Adams County, CO     222035     1234              \n",
       "6 Boulder County, CO   177153     1135              "
      ]
     },
     "metadata": {},
     "output_type": "display_data"
    }
   ],
   "source": [
    "# the census block is the disclosure unit of focus so we need to include that.\n",
    "\n",
    "total_jobs_by_county <- df_inner_join %>%\n",
    "    group_by(ctyname) %>% #grouping by county name\n",
    "    summarize(\n",
    "        total_jobs = sum(C000), #summing the column C000\n",
    "        census_block_count = n_distinct(tabblk2010) #getting counts of census blocks \n",
    "    ) %>%\n",
    "    ungroup()  %>% # cant forget to ungroup()\n",
    "    arrange(desc(total_jobs))\n",
    "\n",
    "head(total_jobs_by_county)"
   ]
  },
  {
   "cell_type": "markdown",
   "id": "c4987145",
   "metadata": {
    "slideshow": {
     "slide_type": "slide"
    }
   },
   "source": [
    "# Export 1\n",
    "## Bar Plot"
   ]
  },
  {
   "cell_type": "code",
   "execution_count": 6,
   "id": "af483b85",
   "metadata": {
    "scrolled": true,
    "slideshow": {
     "slide_type": "fragment"
    }
   },
   "outputs": [
    {
     "data": {
      "text/html": [
       "<table class=\"dataframe\">\n",
       "<caption>A tibble: 6 × 4</caption>\n",
       "<thead>\n",
       "\t<tr><th scope=col>ctyname</th><th scope=col>total_jobs</th><th scope=col>census_block_count</th><th scope=col>prop</th></tr>\n",
       "\t<tr><th scope=col>&lt;chr&gt;</th><th scope=col>&lt;dbl&gt;</th><th scope=col>&lt;int&gt;</th><th scope=col>&lt;dbl&gt;</th></tr>\n",
       "</thead>\n",
       "<tbody>\n",
       "\t<tr><td>Denver County, CO   </td><td>518198</td><td>2484</td><td>20.189302</td></tr>\n",
       "\t<tr><td>Arapahoe County, CO </td><td>329681</td><td>1435</td><td>12.844567</td></tr>\n",
       "\t<tr><td>El Paso County, CO  </td><td>258298</td><td>2248</td><td>10.063443</td></tr>\n",
       "\t<tr><td>Jefferson County, CO</td><td>244706</td><td>1636</td><td> 9.533891</td></tr>\n",
       "\t<tr><td>Adams County, CO    </td><td>222035</td><td>1234</td><td> 8.650615</td></tr>\n",
       "\t<tr><td>Boulder County, CO  </td><td>177153</td><td>1135</td><td> 6.901986</td></tr>\n",
       "</tbody>\n",
       "</table>\n"
      ],
      "text/latex": [
       "A tibble: 6 × 4\n",
       "\\begin{tabular}{llll}\n",
       " ctyname & total\\_jobs & census\\_block\\_count & prop\\\\\n",
       " <chr> & <dbl> & <int> & <dbl>\\\\\n",
       "\\hline\n",
       "\t Denver County, CO    & 518198 & 2484 & 20.189302\\\\\n",
       "\t Arapahoe County, CO  & 329681 & 1435 & 12.844567\\\\\n",
       "\t El Paso County, CO   & 258298 & 2248 & 10.063443\\\\\n",
       "\t Jefferson County, CO & 244706 & 1636 &  9.533891\\\\\n",
       "\t Adams County, CO     & 222035 & 1234 &  8.650615\\\\\n",
       "\t Boulder County, CO   & 177153 & 1135 &  6.901986\\\\\n",
       "\\end{tabular}\n"
      ],
      "text/markdown": [
       "\n",
       "A tibble: 6 × 4\n",
       "\n",
       "| ctyname &lt;chr&gt; | total_jobs &lt;dbl&gt; | census_block_count &lt;int&gt; | prop &lt;dbl&gt; |\n",
       "|---|---|---|---|\n",
       "| Denver County, CO    | 518198 | 2484 | 20.189302 |\n",
       "| Arapahoe County, CO  | 329681 | 1435 | 12.844567 |\n",
       "| El Paso County, CO   | 258298 | 2248 | 10.063443 |\n",
       "| Jefferson County, CO | 244706 | 1636 |  9.533891 |\n",
       "| Adams County, CO     | 222035 | 1234 |  8.650615 |\n",
       "| Boulder County, CO   | 177153 | 1135 |  6.901986 |\n",
       "\n"
      ],
      "text/plain": [
       "  ctyname              total_jobs census_block_count prop     \n",
       "1 Denver County, CO    518198     2484               20.189302\n",
       "2 Arapahoe County, CO  329681     1435               12.844567\n",
       "3 El Paso County, CO   258298     2248               10.063443\n",
       "4 Jefferson County, CO 244706     1636                9.533891\n",
       "5 Adams County, CO     222035     1234                8.650615\n",
       "6 Boulder County, CO   177153     1135                6.901986"
      ]
     },
     "metadata": {},
     "output_type": "display_data"
    }
   ],
   "source": [
    "# calculating the proportion of jobs for each county\n",
    "\n",
    "total_jobs_prop <- total_jobs_by_county %>%\n",
    "    arrange(desc(total_jobs)) %>%\n",
    "    mutate(\n",
    "        prop = total_jobs/sum(total_jobs)*100) # calculating proportions\n",
    "head(total_jobs_prop)"
   ]
  },
  {
   "cell_type": "markdown",
   "id": "bd5c708b",
   "metadata": {
    "slideshow": {
     "slide_type": "slide"
    }
   },
   "source": [
    "Now that we have the proportion calculated, we need to apply rounding rules.\n",
    "\n",
    "**Rounding Rules**\n",
    "\n",
    "Percentages, proportions and ratios need to be rounded - First must apply the rounding rules to both the numerator and denominator, before calculating proportions. Once the proportions are calculated, they must be rounded to the nearest hundredth (.01) or the nearest percent if using whole numbers (1%).\n",
    "\n",
    "Because we have counts of jobs, we need to apply appropriate rounding rules. Counts between 0-999 must be rounded to the nearest 10 and counts above 999 to the nearest 100."
   ]
  },
  {
   "cell_type": "code",
   "execution_count": 7,
   "id": "3e3a657d",
   "metadata": {
    "scrolled": true,
    "slideshow": {
     "slide_type": "fragment"
    }
   },
   "outputs": [
    {
     "data": {
      "text/html": [
       "<table class=\"dataframe\">\n",
       "<caption>A tibble: 6 × 6</caption>\n",
       "<thead>\n",
       "\t<tr><th scope=col>ctyname</th><th scope=col>total_jobs</th><th scope=col>census_block_count</th><th scope=col>prop</th><th scope=col>total_jobs_rounded</th><th scope=col>prop_rounded</th></tr>\n",
       "\t<tr><th scope=col>&lt;chr&gt;</th><th scope=col>&lt;dbl&gt;</th><th scope=col>&lt;int&gt;</th><th scope=col>&lt;dbl&gt;</th><th scope=col>&lt;dbl&gt;</th><th scope=col>&lt;dbl&gt;</th></tr>\n",
       "</thead>\n",
       "<tbody>\n",
       "\t<tr><td>Denver County, CO   </td><td>518198</td><td>2484</td><td>20.189302</td><td>518200</td><td>20</td></tr>\n",
       "\t<tr><td>Arapahoe County, CO </td><td>329681</td><td>1435</td><td>12.844567</td><td>329700</td><td>13</td></tr>\n",
       "\t<tr><td>El Paso County, CO  </td><td>258298</td><td>2248</td><td>10.063443</td><td>258300</td><td>10</td></tr>\n",
       "\t<tr><td>Jefferson County, CO</td><td>244706</td><td>1636</td><td> 9.533891</td><td>244700</td><td>10</td></tr>\n",
       "\t<tr><td>Adams County, CO    </td><td>222035</td><td>1234</td><td> 8.650615</td><td>222000</td><td> 9</td></tr>\n",
       "\t<tr><td>Boulder County, CO  </td><td>177153</td><td>1135</td><td> 6.901986</td><td>177200</td><td> 7</td></tr>\n",
       "</tbody>\n",
       "</table>\n"
      ],
      "text/latex": [
       "A tibble: 6 × 6\n",
       "\\begin{tabular}{llllll}\n",
       " ctyname & total\\_jobs & census\\_block\\_count & prop & total\\_jobs\\_rounded & prop\\_rounded\\\\\n",
       " <chr> & <dbl> & <int> & <dbl> & <dbl> & <dbl>\\\\\n",
       "\\hline\n",
       "\t Denver County, CO    & 518198 & 2484 & 20.189302 & 518200 & 20\\\\\n",
       "\t Arapahoe County, CO  & 329681 & 1435 & 12.844567 & 329700 & 13\\\\\n",
       "\t El Paso County, CO   & 258298 & 2248 & 10.063443 & 258300 & 10\\\\\n",
       "\t Jefferson County, CO & 244706 & 1636 &  9.533891 & 244700 & 10\\\\\n",
       "\t Adams County, CO     & 222035 & 1234 &  8.650615 & 222000 &  9\\\\\n",
       "\t Boulder County, CO   & 177153 & 1135 &  6.901986 & 177200 &  7\\\\\n",
       "\\end{tabular}\n"
      ],
      "text/markdown": [
       "\n",
       "A tibble: 6 × 6\n",
       "\n",
       "| ctyname &lt;chr&gt; | total_jobs &lt;dbl&gt; | census_block_count &lt;int&gt; | prop &lt;dbl&gt; | total_jobs_rounded &lt;dbl&gt; | prop_rounded &lt;dbl&gt; |\n",
       "|---|---|---|---|---|---|\n",
       "| Denver County, CO    | 518198 | 2484 | 20.189302 | 518200 | 20 |\n",
       "| Arapahoe County, CO  | 329681 | 1435 | 12.844567 | 329700 | 13 |\n",
       "| El Paso County, CO   | 258298 | 2248 | 10.063443 | 258300 | 10 |\n",
       "| Jefferson County, CO | 244706 | 1636 |  9.533891 | 244700 | 10 |\n",
       "| Adams County, CO     | 222035 | 1234 |  8.650615 | 222000 |  9 |\n",
       "| Boulder County, CO   | 177153 | 1135 |  6.901986 | 177200 |  7 |\n",
       "\n"
      ],
      "text/plain": [
       "  ctyname              total_jobs census_block_count prop     \n",
       "1 Denver County, CO    518198     2484               20.189302\n",
       "2 Arapahoe County, CO  329681     1435               12.844567\n",
       "3 El Paso County, CO   258298     2248               10.063443\n",
       "4 Jefferson County, CO 244706     1636                9.533891\n",
       "5 Adams County, CO     222035     1234                8.650615\n",
       "6 Boulder County, CO   177153     1135                6.901986\n",
       "  total_jobs_rounded prop_rounded\n",
       "1 518200             20          \n",
       "2 329700             13          \n",
       "3 258300             10          \n",
       "4 244700             10          \n",
       "5 222000              9          \n",
       "6 177200              7          "
      ]
     },
     "metadata": {},
     "output_type": "display_data"
    }
   ],
   "source": [
    "total_jobs_prop_rounded <- total_jobs_prop %>%\n",
    "    mutate(\n",
    "        total_jobs_rounded = ifelse(total_jobs < 1000, #applying rounding rules\n",
    "                                    round(total_jobs, digits = -1), \n",
    "                                    round(total_jobs, digits = -2)),\n",
    "    prop_rounded = round(total_jobs_rounded/sum(total_jobs_rounded),2) *100) %>% \n",
    "    head()\n",
    "\n",
    "total_jobs_prop_rounded"
   ]
  },
  {
   "cell_type": "markdown",
   "id": "841498a5",
   "metadata": {
    "slideshow": {
     "slide_type": "slide"
    }
   },
   "source": [
    "# Creating Bar Plot"
   ]
  },
  {
   "cell_type": "code",
   "execution_count": 8,
   "id": "22a827d0",
   "metadata": {
    "slideshow": {
     "slide_type": "slide"
    }
   },
   "outputs": [
    {
     "name": "stderr",
     "output_type": "stream",
     "text": [
      "Saving 7 x 7 in image\n",
      "\n"
     ]
    },
    {
     "data": {
      "image/png": "[encoded data removed]",
      "text/plain": [
       "plot without title"
      ]
     },
     "metadata": {
      "image/png": {
       "height": 420,
       "width": 420
      }
     },
     "output_type": "display_data"
    }
   ],
   "source": [
    "# Basic barplot\n",
    "ggplot(data=total_jobs_prop_rounded, aes(x=ctyname, y=prop_rounded)) +\n",
    "    geom_bar(stat=\"identity\") +\n",
    "    theme(axis.text.x = element_text(angle = 45, hjust = 1))\n",
    "ggsave(\"export_1_bar_plot.png\")\n"
   ]
  },
  {
   "cell_type": "markdown",
   "id": "9cb83c32",
   "metadata": {
    "slideshow": {
     "slide_type": "slide"
    }
   },
   "source": [
    "When we submit the bar plot for export, we need to show the non-rounded counts for each proportion, the counts for each census block, the rounded counts that generated the proportions, and the final rounded proportions and save the resulting data frame. We ask for this because the export team needs to verify that the proper rounding rules are applied. "
   ]
  },
  {
   "cell_type": "code",
   "execution_count": 9,
   "id": "cc9f9500",
   "metadata": {
    "slideshow": {
     "slide_type": "fragment"
    }
   },
   "outputs": [
    {
     "data": {
      "text/html": [
       "<table class=\"dataframe\">\n",
       "<caption>A tibble: 6 × 6</caption>\n",
       "<thead>\n",
       "\t<tr><th scope=col>ctyname</th><th scope=col>total_jobs</th><th scope=col>census_block_count</th><th scope=col>prop</th><th scope=col>total_jobs_rounded</th><th scope=col>prop_rounded</th></tr>\n",
       "\t<tr><th scope=col>&lt;chr&gt;</th><th scope=col>&lt;dbl&gt;</th><th scope=col>&lt;int&gt;</th><th scope=col>&lt;dbl&gt;</th><th scope=col>&lt;dbl&gt;</th><th scope=col>&lt;dbl&gt;</th></tr>\n",
       "</thead>\n",
       "<tbody>\n",
       "\t<tr><td>Denver County, CO   </td><td>518198</td><td>2484</td><td>20.189302</td><td>518200</td><td>20</td></tr>\n",
       "\t<tr><td>Arapahoe County, CO </td><td>329681</td><td>1435</td><td>12.844567</td><td>329700</td><td>13</td></tr>\n",
       "\t<tr><td>El Paso County, CO  </td><td>258298</td><td>2248</td><td>10.063443</td><td>258300</td><td>10</td></tr>\n",
       "\t<tr><td>Jefferson County, CO</td><td>244706</td><td>1636</td><td> 9.533891</td><td>244700</td><td>10</td></tr>\n",
       "\t<tr><td>Adams County, CO    </td><td>222035</td><td>1234</td><td> 8.650615</td><td>222000</td><td> 9</td></tr>\n",
       "\t<tr><td>Boulder County, CO  </td><td>177153</td><td>1135</td><td> 6.901986</td><td>177200</td><td> 7</td></tr>\n",
       "</tbody>\n",
       "</table>\n"
      ],
      "text/latex": [
       "A tibble: 6 × 6\n",
       "\\begin{tabular}{llllll}\n",
       " ctyname & total\\_jobs & census\\_block\\_count & prop & total\\_jobs\\_rounded & prop\\_rounded\\\\\n",
       " <chr> & <dbl> & <int> & <dbl> & <dbl> & <dbl>\\\\\n",
       "\\hline\n",
       "\t Denver County, CO    & 518198 & 2484 & 20.189302 & 518200 & 20\\\\\n",
       "\t Arapahoe County, CO  & 329681 & 1435 & 12.844567 & 329700 & 13\\\\\n",
       "\t El Paso County, CO   & 258298 & 2248 & 10.063443 & 258300 & 10\\\\\n",
       "\t Jefferson County, CO & 244706 & 1636 &  9.533891 & 244700 & 10\\\\\n",
       "\t Adams County, CO     & 222035 & 1234 &  8.650615 & 222000 &  9\\\\\n",
       "\t Boulder County, CO   & 177153 & 1135 &  6.901986 & 177200 &  7\\\\\n",
       "\\end{tabular}\n"
      ],
      "text/markdown": [
       "\n",
       "A tibble: 6 × 6\n",
       "\n",
       "| ctyname &lt;chr&gt; | total_jobs &lt;dbl&gt; | census_block_count &lt;int&gt; | prop &lt;dbl&gt; | total_jobs_rounded &lt;dbl&gt; | prop_rounded &lt;dbl&gt; |\n",
       "|---|---|---|---|---|---|\n",
       "| Denver County, CO    | 518198 | 2484 | 20.189302 | 518200 | 20 |\n",
       "| Arapahoe County, CO  | 329681 | 1435 | 12.844567 | 329700 | 13 |\n",
       "| El Paso County, CO   | 258298 | 2248 | 10.063443 | 258300 | 10 |\n",
       "| Jefferson County, CO | 244706 | 1636 |  9.533891 | 244700 | 10 |\n",
       "| Adams County, CO     | 222035 | 1234 |  8.650615 | 222000 |  9 |\n",
       "| Boulder County, CO   | 177153 | 1135 |  6.901986 | 177200 |  7 |\n",
       "\n"
      ],
      "text/plain": [
       "  ctyname              total_jobs census_block_count prop     \n",
       "1 Denver County, CO    518198     2484               20.189302\n",
       "2 Arapahoe County, CO  329681     1435               12.844567\n",
       "3 El Paso County, CO   258298     2248               10.063443\n",
       "4 Jefferson County, CO 244706     1636                9.533891\n",
       "5 Adams County, CO     222035     1234                8.650615\n",
       "6 Boulder County, CO   177153     1135                6.901986\n",
       "  total_jobs_rounded prop_rounded\n",
       "1 518200             20          \n",
       "2 329700             13          \n",
       "3 258300             10          \n",
       "4 244700             10          \n",
       "5 222000              9          \n",
       "6 177200              7          "
      ]
     },
     "metadata": {},
     "output_type": "display_data"
    }
   ],
   "source": [
    "total_jobs_prop_rounded %>% write_csv(\"export_1_counts_for_bar_plot.csv\")\n",
    "total_jobs_prop_rounded"
   ]
  },
  {
   "cell_type": "markdown",
   "id": "5fbfaf3b",
   "metadata": {
    "slideshow": {
     "slide_type": "slide"
    }
   },
   "source": [
    "# Export 2\n",
    "\n",
    "## Exporting a Quantile - Median"
   ]
  },
  {
   "cell_type": "markdown",
   "id": "15386902",
   "metadata": {
    "slideshow": {
     "slide_type": "slide"
    }
   },
   "source": [
    "Now, using the same data, let’s say we were interested in calculating the median number of jobs per census block in each county."
   ]
  },
  {
   "cell_type": "code",
   "execution_count": 15,
   "id": "12f879ad",
   "metadata": {
    "slideshow": {
     "slide_type": "slide"
    }
   },
   "outputs": [
    {
     "name": "stderr",
     "output_type": "stream",
     "text": [
      "`summarise()` ungrouping output (override with `.groups` argument)\n",
      "\n"
     ]
    },
    {
     "data": {
      "text/html": [
       "<table class=\"dataframe\">\n",
       "<caption>A tibble: 6 × 2</caption>\n",
       "<thead>\n",
       "\t<tr><th scope=col>ctyname</th><th scope=col>median_jobs_census_block</th></tr>\n",
       "\t<tr><th scope=col>&lt;chr&gt;</th><th scope=col>&lt;dbl&gt;</th></tr>\n",
       "</thead>\n",
       "<tbody>\n",
       "\t<tr><td>Gilpin County, CO  </td><td>83.5</td></tr>\n",
       "\t<tr><td>Crowley County, CO </td><td>75.0</td></tr>\n",
       "\t<tr><td>Arapahoe County, CO</td><td>56.0</td></tr>\n",
       "\t<tr><td>Denver County, CO  </td><td>55.0</td></tr>\n",
       "\t<tr><td>Adams County, CO   </td><td>48.0</td></tr>\n",
       "\t<tr><td>Boulder County, CO </td><td>47.0</td></tr>\n",
       "</tbody>\n",
       "</table>\n"
      ],
      "text/latex": [
       "A tibble: 6 × 2\n",
       "\\begin{tabular}{ll}\n",
       " ctyname & median\\_jobs\\_census\\_block\\\\\n",
       " <chr> & <dbl>\\\\\n",
       "\\hline\n",
       "\t Gilpin County, CO   & 83.5\\\\\n",
       "\t Crowley County, CO  & 75.0\\\\\n",
       "\t Arapahoe County, CO & 56.0\\\\\n",
       "\t Denver County, CO   & 55.0\\\\\n",
       "\t Adams County, CO    & 48.0\\\\\n",
       "\t Boulder County, CO  & 47.0\\\\\n",
       "\\end{tabular}\n"
      ],
      "text/markdown": [
       "\n",
       "A tibble: 6 × 2\n",
       "\n",
       "| ctyname &lt;chr&gt; | median_jobs_census_block &lt;dbl&gt; |\n",
       "|---|---|\n",
       "| Gilpin County, CO   | 83.5 |\n",
       "| Crowley County, CO  | 75.0 |\n",
       "| Arapahoe County, CO | 56.0 |\n",
       "| Denver County, CO   | 55.0 |\n",
       "| Adams County, CO    | 48.0 |\n",
       "| Boulder County, CO  | 47.0 |\n",
       "\n"
      ],
      "text/plain": [
       "  ctyname             median_jobs_census_block\n",
       "1 Gilpin County, CO   83.5                    \n",
       "2 Crowley County, CO  75.0                    \n",
       "3 Arapahoe County, CO 56.0                    \n",
       "4 Denver County, CO   55.0                    \n",
       "5 Adams County, CO    48.0                    \n",
       "6 Boulder County, CO  47.0                    "
      ]
     },
     "metadata": {},
     "output_type": "display_data"
    }
   ],
   "source": [
    "median_jobs_per_census_block <- df_inner_join %>% \n",
    "    group_by(ctyname) %>%\n",
    "    summarize(\n",
    "        median_jobs_census_block = median(C000) #calculating the median\n",
    "    ) %>% arrange(desc(median_jobs_census_block)) %>%\n",
    "    head()\n",
    "\n",
    "median_jobs_per_census_block"
   ]
  },
  {
   "cell_type": "code",
   "execution_count": 16,
   "id": "5376b363",
   "metadata": {
    "slideshow": {
     "slide_type": "slide"
    }
   },
   "outputs": [
    {
     "name": "stderr",
     "output_type": "stream",
     "text": [
      "`summarise()` ungrouping output (override with `.groups` argument)\n",
      "\n"
     ]
    },
    {
     "data": {
      "text/html": [
       "<table class=\"dataframe\">\n",
       "<caption>A tibble: 6 × 3</caption>\n",
       "<thead>\n",
       "\t<tr><th scope=col>ctyname</th><th scope=col>median_jobs_census_block</th><th scope=col>count_census_block</th></tr>\n",
       "\t<tr><th scope=col>&lt;chr&gt;</th><th scope=col>&lt;dbl&gt;</th><th scope=col>&lt;int&gt;</th></tr>\n",
       "</thead>\n",
       "<tbody>\n",
       "\t<tr><td>Gilpin County, CO  </td><td>83.5</td><td>  24</td></tr>\n",
       "\t<tr><td>Crowley County, CO </td><td>75.0</td><td>   9</td></tr>\n",
       "\t<tr><td>Arapahoe County, CO</td><td>56.0</td><td>1435</td></tr>\n",
       "\t<tr><td>Denver County, CO  </td><td>55.0</td><td>2484</td></tr>\n",
       "\t<tr><td>Adams County, CO   </td><td>48.0</td><td>1234</td></tr>\n",
       "\t<tr><td>Boulder County, CO </td><td>47.0</td><td>1135</td></tr>\n",
       "</tbody>\n",
       "</table>\n"
      ],
      "text/latex": [
       "A tibble: 6 × 3\n",
       "\\begin{tabular}{lll}\n",
       " ctyname & median\\_jobs\\_census\\_block & count\\_census\\_block\\\\\n",
       " <chr> & <dbl> & <int>\\\\\n",
       "\\hline\n",
       "\t Gilpin County, CO   & 83.5 &   24\\\\\n",
       "\t Crowley County, CO  & 75.0 &    9\\\\\n",
       "\t Arapahoe County, CO & 56.0 & 1435\\\\\n",
       "\t Denver County, CO   & 55.0 & 2484\\\\\n",
       "\t Adams County, CO    & 48.0 & 1234\\\\\n",
       "\t Boulder County, CO  & 47.0 & 1135\\\\\n",
       "\\end{tabular}\n"
      ],
      "text/markdown": [
       "\n",
       "A tibble: 6 × 3\n",
       "\n",
       "| ctyname &lt;chr&gt; | median_jobs_census_block &lt;dbl&gt; | count_census_block &lt;int&gt; |\n",
       "|---|---|---|\n",
       "| Gilpin County, CO   | 83.5 |   24 |\n",
       "| Crowley County, CO  | 75.0 |    9 |\n",
       "| Arapahoe County, CO | 56.0 | 1435 |\n",
       "| Denver County, CO   | 55.0 | 2484 |\n",
       "| Adams County, CO    | 48.0 | 1234 |\n",
       "| Boulder County, CO  | 47.0 | 1135 |\n",
       "\n"
      ],
      "text/plain": [
       "  ctyname             median_jobs_census_block count_census_block\n",
       "1 Gilpin County, CO   83.5                       24              \n",
       "2 Crowley County, CO  75.0                        9              \n",
       "3 Arapahoe County, CO 56.0                     1435              \n",
       "4 Denver County, CO   55.0                     2484              \n",
       "5 Adams County, CO    48.0                     1234              \n",
       "6 Boulder County, CO  47.0                     1135              "
      ]
     },
     "metadata": {},
     "output_type": "display_data"
    }
   ],
   "source": [
    "median_jobs_per_census_block <- df_inner_join %>% \n",
    "    group_by(ctyname) %>%\n",
    "    summarize(\n",
    "        median_jobs_census_block = median(C000), #calculating the median\n",
    "        count_census_block = n_distinct(tabblk2010) #variable for disclosure review\n",
    "    ) %>% arrange(desc(median_jobs_census_block)) %>%\n",
    "    head()\n",
    "\n",
    "median_jobs_per_census_block\n"
   ]
  },
  {
   "cell_type": "markdown",
   "id": "2834fec3",
   "metadata": {
    "slideshow": {
     "slide_type": "slide"
    }
   },
   "source": [
    "We have calculated the median number of jobs. But we can't export the true median because it may be a data point. Instead, we can export the fuzzy median. We also need to apply the rounding rules before and after calculating the fuzzy median.\n",
    "\n",
    "Exact percentiles can not be exported - Instead, for example, you may calculate a “fuzzy median” by averaging the true 45th and 55th percentiles.\n"
   ]
  },
  {
   "cell_type": "code",
   "execution_count": 11,
   "id": "a2e4440c",
   "metadata": {
    "slideshow": {
     "slide_type": "slide"
    }
   },
   "outputs": [
    {
     "name": "stderr",
     "output_type": "stream",
     "text": [
      "`summarise()` ungrouping output (override with `.groups` argument)\n",
      "\n"
     ]
    },
    {
     "data": {
      "text/html": [
       "<table class=\"dataframe\">\n",
       "<caption>A tibble: 6 × 5</caption>\n",
       "<thead>\n",
       "\t<tr><th scope=col>ctyname</th><th scope=col>median_jobs_census_block</th><th scope=col>fuzzy_median_jobs</th><th scope=col>count_census_block</th><th scope=col>fuzzy_median_jobs_rounded</th></tr>\n",
       "\t<tr><th scope=col>&lt;chr&gt;</th><th scope=col>&lt;dbl&gt;</th><th scope=col>&lt;dbl&gt;</th><th scope=col>&lt;int&gt;</th><th scope=col>&lt;dbl&gt;</th></tr>\n",
       "</thead>\n",
       "<tbody>\n",
       "\t<tr><td>Gilpin County, CO  </td><td>83.5</td><td>73.4</td><td>  24</td><td>70</td></tr>\n",
       "\t<tr><td>Crowley County, CO </td><td>75.0</td><td>76.2</td><td>   9</td><td>80</td></tr>\n",
       "\t<tr><td>Arapahoe County, CO</td><td>56.0</td><td>57.5</td><td>1435</td><td>60</td></tr>\n",
       "\t<tr><td>Denver County, CO  </td><td>55.0</td><td>55.5</td><td>2484</td><td>60</td></tr>\n",
       "\t<tr><td>Adams County, CO   </td><td>48.0</td><td>50.1</td><td>1234</td><td>50</td></tr>\n",
       "\t<tr><td>Boulder County, CO </td><td>47.0</td><td>47.5</td><td>1135</td><td>50</td></tr>\n",
       "</tbody>\n",
       "</table>\n"
      ],
      "text/latex": [
       "A tibble: 6 × 5\n",
       "\\begin{tabular}{lllll}\n",
       " ctyname & median\\_jobs\\_census\\_block & fuzzy\\_median\\_jobs & count\\_census\\_block & fuzzy\\_median\\_jobs\\_rounded\\\\\n",
       " <chr> & <dbl> & <dbl> & <int> & <dbl>\\\\\n",
       "\\hline\n",
       "\t Gilpin County, CO   & 83.5 & 73.4 &   24 & 70\\\\\n",
       "\t Crowley County, CO  & 75.0 & 76.2 &    9 & 80\\\\\n",
       "\t Arapahoe County, CO & 56.0 & 57.5 & 1435 & 60\\\\\n",
       "\t Denver County, CO   & 55.0 & 55.5 & 2484 & 60\\\\\n",
       "\t Adams County, CO    & 48.0 & 50.1 & 1234 & 50\\\\\n",
       "\t Boulder County, CO  & 47.0 & 47.5 & 1135 & 50\\\\\n",
       "\\end{tabular}\n"
      ],
      "text/markdown": [
       "\n",
       "A tibble: 6 × 5\n",
       "\n",
       "| ctyname &lt;chr&gt; | median_jobs_census_block &lt;dbl&gt; | fuzzy_median_jobs &lt;dbl&gt; | count_census_block &lt;int&gt; | fuzzy_median_jobs_rounded &lt;dbl&gt; |\n",
       "|---|---|---|---|---|\n",
       "| Gilpin County, CO   | 83.5 | 73.4 |   24 | 70 |\n",
       "| Crowley County, CO  | 75.0 | 76.2 |    9 | 80 |\n",
       "| Arapahoe County, CO | 56.0 | 57.5 | 1435 | 60 |\n",
       "| Denver County, CO   | 55.0 | 55.5 | 2484 | 60 |\n",
       "| Adams County, CO    | 48.0 | 50.1 | 1234 | 50 |\n",
       "| Boulder County, CO  | 47.0 | 47.5 | 1135 | 50 |\n",
       "\n"
      ],
      "text/plain": [
       "  ctyname             median_jobs_census_block fuzzy_median_jobs\n",
       "1 Gilpin County, CO   83.5                     73.4             \n",
       "2 Crowley County, CO  75.0                     76.2             \n",
       "3 Arapahoe County, CO 56.0                     57.5             \n",
       "4 Denver County, CO   55.0                     55.5             \n",
       "5 Adams County, CO    48.0                     50.1             \n",
       "6 Boulder County, CO  47.0                     47.5             \n",
       "  count_census_block fuzzy_median_jobs_rounded\n",
       "1   24               70                       \n",
       "2    9               80                       \n",
       "3 1435               60                       \n",
       "4 2484               60                       \n",
       "5 1234               50                       \n",
       "6 1135               50                       "
      ]
     },
     "metadata": {},
     "output_type": "display_data"
    }
   ],
   "source": [
    "fuzzy_median_jobs_per_census_block <- df_inner_join %>% \n",
    "    group_by(ctyname) %>%\n",
    "    summarize(\n",
    "        median_jobs_census_block = median(C000),\n",
    "        fuzzy_median_jobs = round((quantile(C000, .45) + quantile(C000, .55))/2, 1), #calculating fuzzy median\n",
    "        count_census_block = n_distinct(tabblk2010) #variable for disclosure review\n",
    "    ) %>% \n",
    "    mutate(\n",
    "        fuzzy_median_jobs_rounded = round(fuzzy_median_jobs, digits = -1)) %>%\n",
    "    arrange(desc(median_jobs_census_block)) %>%\n",
    "    head()\n",
    "\n",
    "fuzzy_median_jobs_per_census_block"
   ]
  },
  {
   "cell_type": "markdown",
   "id": "7239ccab",
   "metadata": {
    "slideshow": {
     "slide_type": "slide"
    }
   },
   "source": [
    "We see that we have a count below 10 for Crowley County, CO. This means we have to redact the `fuzzy_median_jobs_rounded` value for that record. We will replace any value fewer than 9 with `NA`."
   ]
  },
  {
   "cell_type": "code",
   "execution_count": 12,
   "id": "301073a7",
   "metadata": {
    "slideshow": {
     "slide_type": "fragment"
    }
   },
   "outputs": [
    {
     "data": {
      "text/html": [
       "<table class=\"dataframe\">\n",
       "<caption>A tibble: 6 × 2</caption>\n",
       "<thead>\n",
       "\t<tr><th scope=col>ctyname</th><th scope=col>fuzzy_median_jobs_rounded</th></tr>\n",
       "\t<tr><th scope=col>&lt;chr&gt;</th><th scope=col>&lt;dbl&gt;</th></tr>\n",
       "</thead>\n",
       "<tbody>\n",
       "\t<tr><td>Gilpin County, CO  </td><td>70</td></tr>\n",
       "\t<tr><td>Crowley County, CO </td><td>NA</td></tr>\n",
       "\t<tr><td>Arapahoe County, CO</td><td>60</td></tr>\n",
       "\t<tr><td>Denver County, CO  </td><td>60</td></tr>\n",
       "\t<tr><td>Adams County, CO   </td><td>50</td></tr>\n",
       "\t<tr><td>Boulder County, CO </td><td>50</td></tr>\n",
       "</tbody>\n",
       "</table>\n"
      ],
      "text/latex": [
       "A tibble: 6 × 2\n",
       "\\begin{tabular}{ll}\n",
       " ctyname & fuzzy\\_median\\_jobs\\_rounded\\\\\n",
       " <chr> & <dbl>\\\\\n",
       "\\hline\n",
       "\t Gilpin County, CO   & 70\\\\\n",
       "\t Crowley County, CO  & NA\\\\\n",
       "\t Arapahoe County, CO & 60\\\\\n",
       "\t Denver County, CO   & 60\\\\\n",
       "\t Adams County, CO    & 50\\\\\n",
       "\t Boulder County, CO  & 50\\\\\n",
       "\\end{tabular}\n"
      ],
      "text/markdown": [
       "\n",
       "A tibble: 6 × 2\n",
       "\n",
       "| ctyname &lt;chr&gt; | fuzzy_median_jobs_rounded &lt;dbl&gt; |\n",
       "|---|---|\n",
       "| Gilpin County, CO   | 70 |\n",
       "| Crowley County, CO  | NA |\n",
       "| Arapahoe County, CO | 60 |\n",
       "| Denver County, CO   | 60 |\n",
       "| Adams County, CO    | 50 |\n",
       "| Boulder County, CO  | 50 |\n",
       "\n"
      ],
      "text/plain": [
       "  ctyname             fuzzy_median_jobs_rounded\n",
       "1 Gilpin County, CO   70                       \n",
       "2 Crowley County, CO  NA                       \n",
       "3 Arapahoe County, CO 60                       \n",
       "4 Denver County, CO   60                       \n",
       "5 Adams County, CO    50                       \n",
       "6 Boulder County, CO  50                       "
      ]
     },
     "metadata": {},
     "output_type": "display_data"
    }
   ],
   "source": [
    "export_median_jobs_fuzzy_rounded <- fuzzy_median_jobs_per_census_block %>%\n",
    "    mutate(fuzzy_median_jobs_rounded = ifelse( #applying rounding rules\n",
    "            count_census_block < 10, \n",
    "               fuzzy_median_jobs_rounded == NA, \n",
    "               fuzzy_median_jobs_rounded)) %>%\n",
    "    select(ctyname, fuzzy_median_jobs_rounded)\n",
    "\n",
    "export_median_jobs_fuzzy_rounded\n"
   ]
  },
  {
   "cell_type": "markdown",
   "id": "a01a1e3e",
   "metadata": {
    "slideshow": {
     "slide_type": "slide"
    }
   },
   "source": [
    "Now that we have applied the rounding rules and created the supporting table with the underlying counts, we need to save both data frames. "
   ]
  },
  {
   "cell_type": "code",
   "execution_count": 13,
   "id": "0afc121c",
   "metadata": {
    "slideshow": {
     "slide_type": "fragment"
    }
   },
   "outputs": [],
   "source": [
    "fuzzy_median_jobs_per_census_block %>% write_csv(\"export_2_data.csv\")\n",
    "export_median_jobs_fuzzy_rounded %>% write_csv(\"export_2_fuzzy_median_jobs.csv\")"
   ]
  },
  {
   "cell_type": "markdown",
   "id": "107998ff",
   "metadata": {
    "slideshow": {
     "slide_type": "slide"
    }
   },
   "source": [
    "# Documentation File \n",
    "\n",
    "<html>\n",
    "  <head>\n",
    "    <title>Documentation</title>\n",
    "  </head>\n",
    "  <body>\n",
    "      <p>Check out\n",
    "      <a href=\"Documentation.pdf\" target=\"_blank rel=\"noopener noreferrer\">Documentation Example</a></p>\n",
    "  </body>\n",
    "</html>\n",
    "\n",
    "\n",
    "# ADRF User Guide\n",
    "\n",
    "The User Guide is a great reference if there are any questions about the export process or using the ADRF. \n",
    "\n",
    "<html>\n",
    "  <head>\n",
    "    <title>ADRF User Guide</title>\n",
    "  </head>\n",
    "  <body>\n",
    "      <p>Check out\n",
    "      <a href=\"ADRF_user_guide.pdf\" target=\"_blank rel=\"noopener noreferrer\">ADRF User Guide</p>\n",
    "  </body>\n",
    "</html>\n",
    "<br>\n",
    "\n",
    "<span style=\"font-size: 1.5em;\">\n",
    "        <a href='https://youtu.be/qXG_i0v_bDQ'>Export Module Video Walk-through</a>\n",
    "    </span> "
   ]
  },
  {
   "cell_type": "code",
   "execution_count": 14,
   "id": "0c34b456",
   "metadata": {
    "slideshow": {
     "slide_type": "skip"
    }
   },
   "outputs": [],
   "source": [
    "#jupyter nbconvert Export_training.ipynb --to slides --post serve"
   ]
  }
 ],
 "metadata": {
  "celltoolbar": "Slideshow",
  "kernelspec": {
   "display_name": "R",
   "language": "R",
   "name": "ir"
  },
  "language_info": {
   "codemirror_mode": "r",
   "file_extension": ".r",
   "mimetype": "text/x-r-source",
   "name": "R",
   "pygments_lexer": "r",
   "version": "3.6.3"
  }
 },
 "nbformat": 4,
 "nbformat_minor": 5
}
