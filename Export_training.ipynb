{
 "cells": [
  {
   "cell_type": "markdown",
   "id": "abd56a27",
   "metadata": {
    "slideshow": {
     "slide_type": "slide"
    }
   },
   "source": [
    "<center> <img style=\"float: center;\" src=\"images/CI_horizontal.png\" width=\"450\">\n",
    "<center>\n",
    "    <span style=\"font-size: 1.5em;\">\n",
    "        <a href='https://www.coleridgeinitiative.org'>Website</a>\n",
    "    </span> \n",
    "\n",
    "<center><h1> Preparing and Submitting Files for Export<h1></center>\n"
   ]
  },
  {
   "cell_type": "markdown",
   "id": "abbf1b4d",
   "metadata": {
    "slideshow": {
     "slide_type": "slide"
    }
   },
   "source": [
    "# Outline and Motivation\n",
    "\n",
    "The purpose of this notebook is to provide examples and to serve as guide to preparing and submitting an export for disclosure review. \n",
    "\n",
    "1. How to prepare an export\n",
    "    - Creating all necessary files\n",
    "1. How to submit an export using the files we created\n",
    "    - Export module\n"
   ]
  },
  {
   "cell_type": "markdown",
   "id": "40ae885a",
   "metadata": {
    "slideshow": {
     "slide_type": "slide"
    }
   },
   "source": [
    "In order to submit a proper export, the following supporting files and information must accompany all export files:\n",
    "- A documentation file that includes:\n",
    "    - Export file name \n",
    "    - Name of the supporting files that contain the required counts for each reported statistic\n",
    "    - Grouping and filters applied to the original dataset\n",
    "    - How the export file relates to other files within the same export\n",
    "\n",
    ">Note: If there are multiple variables subject to disclosure review, you can include the counts for them in the same file.\n"
   ]
  },
  {
   "cell_type": "code",
   "execution_count": null,
   "id": "1db5563f",
   "metadata": {
    "slideshow": {
     "slide_type": "skip"
    }
   },
   "outputs": [],
   "source": [
    "library(tidyverse)\n",
    "library(R.utils)\n",
    "library(ggplot2)\n",
    "\n"
   ]
  },
  {
   "cell_type": "code",
   "execution_count": null,
   "id": "e77d1c87",
   "metadata": {
    "slideshow": {
     "slide_type": "skip"
    }
   },
   "outputs": [],
   "source": [
    "co_xwalk <- read_csv(\"co_xwalk.csv\")\n",
    "\n",
    "co_wac_2019 <- read_csv('co_wac_S000_JT00_2019.csv')\n",
    "\n",
    "co_rac_2019 <- read_csv('co_rac_S000_JT00_2019.csv')\n"
   ]
  },
  {
   "cell_type": "code",
   "execution_count": null,
   "id": "c9677e2c",
   "metadata": {
    "slideshow": {
     "slide_type": "skip"
    }
   },
   "outputs": [],
   "source": [
    "df_inner_join <- inner_join(co_xwalk, co_wac_2019, by = c(\"tabblk2010\" = \"w_geocode\")) %>%\n",
    "    select (tabblk2010, C000, CA01, CA02, CA03, ctyname, cbsaname) %>% \n",
    "    filter(C000 > 10)"
   ]
  },
  {
   "cell_type": "markdown",
   "id": "a53d2380",
   "metadata": {
    "slideshow": {
     "slide_type": "slide"
    }
   },
   "source": [
    "# How to prepare an export\n"
   ]
  },
  {
   "cell_type": "code",
   "execution_count": null,
   "id": "b3271be1",
   "metadata": {
    "slideshow": {
     "slide_type": "slide"
    }
   },
   "outputs": [],
   "source": [
    "total_jobs_by_county <- df_inner_join %>%\n",
    "    group_by(ctyname) %>% #grouping by county name\n",
    "    summarize(\n",
    "        total_jobs = sum(C000)\n",
    "    ) %>%\n",
    "    ungroup()  %>% # cant forget to ungroup()\n",
    "    arrange(desc(total_jobs))\n",
    "\n",
    "head(total_jobs_by_county)"
   ]
  },
  {
   "cell_type": "code",
   "execution_count": null,
   "id": "37d621ed",
   "metadata": {
    "slideshow": {
     "slide_type": "slide"
    }
   },
   "outputs": [],
   "source": [
    "# the census block is the disclosure unit of focus so we need to include that.\n",
    "\n",
    "total_jobs_by_county <- df_inner_join %>%\n",
    "    group_by(ctyname) %>% #grouping by county name\n",
    "    summarize(\n",
    "        total_jobs = sum(C000), #summing the column C000\n",
    "        census_block_count = n_distinct(tabblk2010) #getting counts of census blocks \n",
    "    ) %>%\n",
    "    ungroup()  %>% # cant forget to ungroup()\n",
    "    arrange(desc(total_jobs))\n",
    "\n",
    "head(total_jobs_by_county)"
   ]
  },
  {
   "cell_type": "markdown",
   "id": "c4987145",
   "metadata": {
    "slideshow": {
     "slide_type": "slide"
    }
   },
   "source": [
    "# Export 1\n",
    "## Bar Plot"
   ]
  },
  {
   "cell_type": "code",
   "execution_count": null,
   "id": "af483b85",
   "metadata": {
    "scrolled": true,
    "slideshow": {
     "slide_type": "fragment"
    }
   },
   "outputs": [],
   "source": [
    "# calculating the proportion of jobs for each county\n",
    "\n",
    "total_jobs_prop <- total_jobs_by_county %>%\n",
    "    arrange(desc(total_jobs)) %>%\n",
    "    mutate(\n",
    "        prop = total_jobs/sum(total_jobs)*100) # calculating proportions\n",
    "head(total_jobs_prop)"
   ]
  },
  {
   "cell_type": "markdown",
   "id": "bd5c708b",
   "metadata": {
    "slideshow": {
     "slide_type": "slide"
    }
   },
   "source": [
    "Now that we have the proportion calculated, we need to apply rounding rules.\n",
    "\n",
    "**Rounding Rules**\n",
    "\n",
    "Percentages, proportions and ratios need to be rounded - First must apply the rounding rules to both the numerator and denominator, before calculating proportions. Once the proportions are calculated, they must be rounded to the nearest hundredth (.01) or the nearest percent if using whole numbers (1%).\n",
    "\n",
    "Because we have counts of jobs, we need to apply appropriate rounding rules. Counts between 0-999 must be rounded to the nearest 10 and counts above 999 to the nearest 100."
   ]
  },
  {
   "cell_type": "code",
   "execution_count": null,
   "id": "3e3a657d",
   "metadata": {
    "scrolled": true,
    "slideshow": {
     "slide_type": "fragment"
    }
   },
   "outputs": [],
   "source": [
    "total_jobs_prop_rounded <- total_jobs_prop %>%\n",
    "    mutate(\n",
    "        total_jobs_rounded = ifelse(total_jobs < 1000, #applying rounding rules\n",
    "                                    round(total_jobs, digits = -1), \n",
    "                                    round(total_jobs, digits = -2)),\n",
    "    prop_rounded = round(total_jobs_rounded/sum(total_jobs_rounded),2) *100) \n",
    "\n",
    "head(total_jobs_prop_rounded)"
   ]
  },
  {
   "cell_type": "markdown",
   "id": "b7ecda2a",
   "metadata": {
    "slideshow": {
     "slide_type": "slide"
    }
   },
   "source": [
    "Since we are showing the top 6 counties with the most jobs, we need to include the totals for the columns `total_jobs` and `total_jobs_rounded` to show how we calculated the proportions. We will add a row called `Total` with the sum of these 2 columns."
   ]
  },
  {
   "cell_type": "code",
   "execution_count": null,
   "id": "1bdf830d",
   "metadata": {
    "scrolled": true,
    "slideshow": {
     "slide_type": "fragment"
    }
   },
   "outputs": [],
   "source": [
    "total_df <- total_jobs_prop_rounded %>%\n",
    "    summarize(total_jobs = sum(total_jobs),\n",
    "              census_block_count = sum(census_block_count),\n",
    "              prop = sum(census_block_count)/sum(census_block_count)*100,\n",
    "              total_jobs_rounded = sum(total_jobs_rounded),\n",
    "              prop_rounded = sum(total_jobs_rounded)/sum(total_jobs_rounded)*100)\n",
    "\n",
    "total_df <- cbind(ctyname = 'Total', total_df)"
   ]
  },
  {
   "cell_type": "code",
   "execution_count": null,
   "id": "173f6df0",
   "metadata": {
    "slideshow": {
     "slide_type": "fragment"
    }
   },
   "outputs": [],
   "source": [
    "total_jobs_prop_rounded_w_total <- total_jobs_prop_rounded %>% \n",
    "    head() %>% \n",
    "    rbind(total_df)\n",
    "total_jobs_prop_rounded_w_total\n"
   ]
  },
  {
   "cell_type": "markdown",
   "id": "841498a5",
   "metadata": {
    "slideshow": {
     "slide_type": "slide"
    }
   },
   "source": [
    "# Creating Bar Plot"
   ]
  },
  {
   "cell_type": "code",
   "execution_count": null,
   "id": "22a827d0",
   "metadata": {
    "slideshow": {
     "slide_type": "slide"
    }
   },
   "outputs": [],
   "source": [
    "# Basic barplot\n",
    "ggplot(data=total_jobs_prop_rounded %>% head(), aes(x=ctyname, y=prop_rounded)) +\n",
    "    geom_bar(stat=\"identity\") +\n",
    "    theme(axis.text.x = element_text(angle = 45, hjust = 1))\n",
    "ggsave(\"export_1_bar_plot.png\")\n"
   ]
  },
  {
   "cell_type": "markdown",
   "id": "9cb83c32",
   "metadata": {
    "slideshow": {
     "slide_type": "slide"
    }
   },
   "source": [
    "When we submit the bar plot for export, we need to show the non-rounded counts for each proportion, the counts for each census block, the rounded counts that generated the proportions, and the final rounded proportions and save the resulting data frame. We ask for this because the export team needs to verify that the proper rounding rules are applied. "
   ]
  },
  {
   "cell_type": "code",
   "execution_count": null,
   "id": "cc9f9500",
   "metadata": {
    "slideshow": {
     "slide_type": "fragment"
    }
   },
   "outputs": [],
   "source": [
    "total_jobs_prop_rounded_w_total %>% write_csv(\"export_1_counts_for_bar_plot.csv\")\n",
    "total_jobs_prop_rounded_w_total"
   ]
  },
  {
   "cell_type": "markdown",
   "id": "5fbfaf3b",
   "metadata": {
    "slideshow": {
     "slide_type": "slide"
    }
   },
   "source": [
    "# Export 2\n",
    "\n",
    "## Exporting a Quantile - Median"
   ]
  },
  {
   "cell_type": "markdown",
   "id": "15386902",
   "metadata": {
    "slideshow": {
     "slide_type": "slide"
    }
   },
   "source": [
    "Now, using the same data, let’s say we were interested in calculating the median number of jobs per census block in each county."
   ]
  },
  {
   "cell_type": "code",
   "execution_count": null,
   "id": "12f879ad",
   "metadata": {
    "slideshow": {
     "slide_type": "slide"
    }
   },
   "outputs": [],
   "source": [
    "median_jobs_per_census_block <- df_inner_join %>% \n",
    "    group_by(ctyname) %>%\n",
    "    summarize(\n",
    "        median_jobs_census_block = median(C000) #calculating the median\n",
    "    ) %>% arrange(desc(median_jobs_census_block)) %>%\n",
    "    head()\n",
    "\n",
    "median_jobs_per_census_block"
   ]
  },
  {
   "cell_type": "code",
   "execution_count": null,
   "id": "5376b363",
   "metadata": {
    "slideshow": {
     "slide_type": "slide"
    }
   },
   "outputs": [],
   "source": [
    "median_jobs_per_census_block <- df_inner_join %>% \n",
    "    group_by(ctyname) %>%\n",
    "    summarize(\n",
    "        median_jobs_census_block = median(C000), #calculating the median\n",
    "        count_census_block = n_distinct(tabblk2010) #variable for disclosure review\n",
    "    ) %>% arrange(desc(median_jobs_census_block)) %>%\n",
    "    head()\n",
    "\n",
    "median_jobs_per_census_block\n"
   ]
  },
  {
   "cell_type": "markdown",
   "id": "2834fec3",
   "metadata": {
    "slideshow": {
     "slide_type": "slide"
    }
   },
   "source": [
    "We have calculated the median number of jobs. But we can't export the true median because it may be a data point. Instead, we can export the fuzzy median. We also need to apply the rounding rules before and after calculating the fuzzy median.\n",
    "\n",
    "Exact percentiles can not be exported - Instead, for example, you may calculate a “fuzzy median” by averaging the true 45th and 55th percentiles.\n"
   ]
  },
  {
   "cell_type": "code",
   "execution_count": null,
   "id": "a2e4440c",
   "metadata": {
    "slideshow": {
     "slide_type": "slide"
    }
   },
   "outputs": [],
   "source": [
    "fuzzy_median_jobs_per_census_block <- df_inner_join %>% \n",
    "    group_by(ctyname) %>%\n",
    "    summarize(\n",
    "        median_jobs_census_block = median(C000),\n",
    "        fuzzy_median_jobs = round((quantile(C000, .45) + quantile(C000, .55))/2, 1), #calculating fuzzy median\n",
    "        count_census_block = n_distinct(tabblk2010) #variable for disclosure review\n",
    "    ) %>% \n",
    "    mutate(\n",
    "        fuzzy_median_jobs_rounded = round(fuzzy_median_jobs, digits = -1)) %>%\n",
    "    arrange(desc(median_jobs_census_block)) %>%\n",
    "    head()\n",
    "\n",
    "fuzzy_median_jobs_per_census_block"
   ]
  },
  {
   "cell_type": "markdown",
   "id": "7239ccab",
   "metadata": {
    "slideshow": {
     "slide_type": "slide"
    }
   },
   "source": [
    "We see that we have a count below 10 for Crowley County, CO. This means we have to redact the `fuzzy_median_jobs_rounded` value for that record. We will replace any value fewer than 9 with `NA`."
   ]
  },
  {
   "cell_type": "code",
   "execution_count": null,
   "id": "301073a7",
   "metadata": {
    "slideshow": {
     "slide_type": "fragment"
    }
   },
   "outputs": [],
   "source": [
    "export_median_jobs_fuzzy_rounded <- fuzzy_median_jobs_per_census_block %>%\n",
    "    mutate(fuzzy_median_jobs_rounded = ifelse( #applying rounding rules\n",
    "            count_census_block < 10, \n",
    "               fuzzy_median_jobs_rounded == NA, \n",
    "               fuzzy_median_jobs_rounded)) %>%\n",
    "    select(ctyname, fuzzy_median_jobs_rounded)\n",
    "\n",
    "export_median_jobs_fuzzy_rounded\n"
   ]
  },
  {
   "cell_type": "markdown",
   "id": "a01a1e3e",
   "metadata": {
    "slideshow": {
     "slide_type": "slide"
    }
   },
   "source": [
    "Now that we have applied the rounding rules and created the supporting table with the underlying counts, we need to save both data frames. "
   ]
  },
  {
   "cell_type": "code",
   "execution_count": null,
   "id": "0afc121c",
   "metadata": {
    "slideshow": {
     "slide_type": "fragment"
    }
   },
   "outputs": [],
   "source": [
    "fuzzy_median_jobs_per_census_block %>% write_csv(\"export_2_data.csv\")\n",
    "export_median_jobs_fuzzy_rounded %>% write_csv(\"export_2_fuzzy_median_jobs.csv\")"
   ]
  },
  {
   "cell_type": "markdown",
   "id": "107998ff",
   "metadata": {
    "slideshow": {
     "slide_type": "slide"
    }
   },
   "source": [
    "# Documentation File \n",
    "\n",
    "<html>\n",
    "  <head>\n",
    "    <title>Documentation</title>\n",
    "  </head>\n",
    "  <body>\n",
    "      <p>Check out\n",
    "      <a href=\"Documentation.pdf\" target=\"_blank rel=\"noopener noreferrer\">Documentation Example</a></p>\n",
    "  </body>\n",
    "</html>\n",
    "\n",
    "\n",
    "# ADRF User Guide\n",
    "\n",
    "The User Guide is a great reference if there are any questions about the export process or using the ADRF. \n",
    "\n",
    "<html>\n",
    "  <head>\n",
    "    <title>ADRF User Guide</title>\n",
    "  </head>\n",
    "  <body>\n",
    "      <p>Check out\n",
    "      <a href=\"ADRF_user_guide.pdf\" target=\"_blank rel=\"noopener noreferrer\">ADRF User Guide</p>\n",
    "  </body>\n",
    "</html>\n",
    "<br>\n",
    "\n",
    "<span style=\"font-size: 1.5em;\">\n",
    "        <a href='https://youtu.be/qXG_i0v_bDQ'>Export Module Video Walk-through</a>\n",
    "    </span> "
   ]
  },
  {
   "cell_type": "code",
   "execution_count": null,
   "id": "0c34b456",
   "metadata": {
    "slideshow": {
     "slide_type": "skip"
    }
   },
   "outputs": [],
   "source": [
    "#jupyter nbconvert Export_training.ipynb --to slides --post serve"
   ]
  }
 ],
 "metadata": {
  "celltoolbar": "Slideshow",
  "kernelspec": {
   "display_name": "R",
   "language": "R",
   "name": "ir"
  },
  "language_info": {
   "codemirror_mode": "r",
   "file_extension": ".r",
   "mimetype": "text/x-r-source",
   "name": "R",
   "pygments_lexer": "r",
   "version": "3.6.3"
  }
 },
 "nbformat": 4,
 "nbformat_minor": 5
}
